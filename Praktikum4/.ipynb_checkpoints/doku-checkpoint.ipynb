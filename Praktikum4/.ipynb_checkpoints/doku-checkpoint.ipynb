{
 "cells": [
  {
   "cell_type": "markdown",
   "metadata": {},
   "source": [
    "# Anmelden"
   ]
  },
  {
   "cell_type": "markdown",
   "metadata": {},
   "source": [
    "AS Nummer: 6 \n",
    "\n",
    "Passwort über SSH ist: d6313f949c76c26b\n",
    "\n",
    "ssh -p 2006 root@internet.link-lab.net"
   ]
  },
  {
   "cell_type": "markdown",
   "metadata": {},
   "source": [
    "# Aufgabe"
   ]
  },
  {
   "cell_type": "markdown",
   "metadata": {},
   "source": [
    "1. den Fehlerzustand zu erkennen und einzugrenzen,\n",
    "2. die Fehlerursache herauszufinden,\n",
    "3. die Funktion und das Verhalten zu korrigieren."
   ]
  },
  {
   "cell_type": "markdown",
   "metadata": {},
   "source": [
    "Anforderung:\n",
    "\n",
    "1. Die Host innerhalb des North Data Center (DCN) können sich untereinander erreichen.\n",
    "2. Die UEFA und FIFA Hosts sind über VLANs auf Layer 2 isoliert.\n",
    "3. Pakete werden über OSPF geroutet (zwischen den Host an den Routern sowie den Hosts im DCN ).\n",
    "4. Pakete zwischen MUNI und MILA werden über die Pfade MILA-LUGA-ZURI-MUNI und MILA-LUGA-GENE-BASE-ZURI-MUNI verteilt (Load Balancing)."
   ]
  },
  {
   "cell_type": "markdown",
   "metadata": {},
   "source": [
    "<img src=\"l2-network.png\" width=\"600\">"
   ]
  },
  {
   "cell_type": "markdown",
   "metadata": {},
   "source": [
    "Nützliche Kommandos\n",
    "- ./goto.sh DCN FIFA_1 \n",
    "- ./goto.sh DCS FIFA_4 \n",
    "- ip address show\n",
    "\n",
    "Test für die Teil Aufgaben: 1. und 2.\n",
    "\n",
    "| Host | Addresse           | |            | FIFA_1      | FIFA_2      | FIFA_3    | FIFA_4      | UEFA_1      | UEFA_2      | UEFA_3      | UEFA_4      |\n",
    "| ----------- | ----------- |-|----------- | ----------- | ----------- |-----------| ----------- | ----------- | ----------- | ----------- | ----------- |\n",
    "| FIFA_1 | 6.200.10.3/24    | | FIFA_1     |      X      |             |           |             |             |             |             |             |\n",
    "| FIFA_2 | 6.200.10.4/24    | | FIFA_2     |             |      X      |           |             |             |             |             |             |  \n",
    "| FIFA_3 | 6.200.10.5/24    | | FIFA_3     |             |             |      X    |             |             |             |             |             |  \n",
    "| FIFA_4 | 6.201.10.2/24    | | FIFA_4     |             |             |           |       X     |             |             |             |             |  \n",
    "| UEFA_1 | 6.200.20.3/24    | | UEFA_1     |             |             |           |             |      X      |             |             |             |  \n",
    "| UEFA_2 | 6.200.20.4/24    | | UEFA_2     |             |             |           |             |             |      X      |             |             |  \n",
    "| UEFA_3 | 6.200.20.5/24    | | UEFA_3     |             |             |           |             |             |             |       X     |             |  \n",
    "| UEFA_4 | 6.201.20.2/24    | | UEFA_4     |             |             |           |             |             |             |             |       X     |  "
   ]
  },
  {
   "cell_type": "markdown",
   "metadata": {},
   "source": [
    "<img src=\"l3-network.png\" width=\"600\">"
   ]
  },
  {
   "cell_type": "markdown",
   "metadata": {},
   "source": []
  }
 ],
 "metadata": {
  "kernelspec": {
   "display_name": "Python 3 (ipykernel)",
   "language": "python",
   "name": "python3"
  },
  "language_info": {
   "codemirror_mode": {
    "name": "ipython",
    "version": 3
   },
   "file_extension": ".py",
   "mimetype": "text/x-python",
   "name": "python",
   "nbconvert_exporter": "python",
   "pygments_lexer": "ipython3",
   "version": "3.9.12"
  }
 },
 "nbformat": 4,
 "nbformat_minor": 2
}
