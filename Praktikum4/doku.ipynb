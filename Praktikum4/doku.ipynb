{
 "cells": [
  {
   "cell_type": "markdown",
   "metadata": {},
   "source": [
    "# Anmelden"
   ]
  },
  {
   "cell_type": "markdown",
   "metadata": {},
   "source": [
    "AS Nummer: 6 \n",
    "\n",
    "Passwort über SSH ist: d6313f949c76c26b\n",
    "\n",
    "ssh -p 2006 root@internet.link-lab.net"
   ]
  },
  {
   "cell_type": "markdown",
   "metadata": {},
   "source": [
    "# Aufgabe"
   ]
  },
  {
   "cell_type": "markdown",
   "metadata": {},
   "source": [
    "1. den Fehlerzustand zu erkennen und einzugrenzen,\n",
    "2. die Fehlerursache herauszufinden,\n",
    "3. die Funktion und das Verhalten zu korrigieren."
   ]
  },
  {
   "cell_type": "markdown",
   "metadata": {},
   "source": [
    "Anforderung:\n",
    "\n",
    "1. Die Host innerhalb des North Data Center (DCN) können sich untereinander erreichen.\n",
    "2. Die UEFA und FIFA Hosts sind über VLANs auf Layer 2 isoliert.\n",
    "3. Pakete werden über OSPF geroutet (zwischen den Host an den Routern sowie den Hosts im DCN ).\n",
    "4. Pakete zwischen MUNI und MILA werden über die Pfade MILA-LUGA-ZURI-MUNI und MILA-LUGA-GENE-BASE-ZURI-MUNI verteilt (Load Balancing)."
   ]
  },
  {
   "cell_type": "markdown",
   "metadata": {},
   "source": [
    "<img src=\"l2-network.png\" width=\"600\">"
   ]
  },
  {
   "cell_type": "markdown",
   "metadata": {},
   "source": [
    "# Test ereichtbarkeit von den Host\n",
    "Nützliche Kommandos\n",
    "- ./goto.sh DCN FIFA_1 \n",
    "- ./goto.sh DCS FIFA_4 \n",
    "- ip address show\n",
    "\n",
    "Test für die Teil Aufgaben: 1. und 2.\n",
    "Mit ping getestet\n",
    "\n",
    "| Host | Addresse           | |            | FIFA_1      | FIFA_2      | FIFA_3    | FIFA_4      | UEFA_1      | UEFA_2      | UEFA_3      | UEFA_4      |\n",
    "| ----------- | ----------- |-|----------- | ----------- | ----------- |-----------| ----------- | ----------- | ----------- | ----------- | ----------- |\n",
    "| FIFA_1 | 6.200.10.3/24    | | FIFA_1     |      -      |      O      |      X    |       O     |      O      |      O      |       X     |       O     |\n",
    "| FIFA_2 | 6.200.10.4/24    | | FIFA_2     |      O      |      -      |      X    |       O     |      O      |      O      |       X     |       O     |  \n",
    "| FIFA_3 | 6.200.10.5/24    | | FIFA_3     |      X      |      X      |      -    |       X     |      X      |      X      |       X     |       X     |  \n",
    "| FIFA_4 | 6.201.10.2/24    | | FIFA_4     |      O      |      O      |      X    |       -     |      O      |      O      |       X     |       O     |  \n",
    "| UEFA_1 | 6.200.20.3/24    | | UEFA_1     |      O      |      O      |      X    |       O     |      -      |      O      |       X     |       O     |  \n",
    "| UEFA_2 | 6.200.20.4/24    | | UEFA_2     |      O      |      O      |      X    |       O     |      O      |      -      |       X     |       O     |  \n",
    "| UEFA_3 | 6.200.20.5/24    | | UEFA_3     |      X      |      X      |      X    |       X     |      X      |      X      |       -     |       X     |  \n",
    "| UEFA_4 | 6.201.20.2/24    | | UEFA_4     |      O      |      O      |      O    |       O     |      O      |      O      |       O     |       -     |  \n",
    "\n",
    "\n",
    "FIFA_3 und UEFA_3 sind unreacheble"
   ]
  },
  {
   "cell_type": "markdown",
   "metadata": {},
   "source": [
    "# Test Vlan konfiguration \n",
    "- ping -b 6.200.10.255  #broadcast ping an Vlan (FIFA)\n",
    "- ping -b 6.200.20.255  #broadcast ping an Vlan (UEFA)\n",
    "\n",
    "\n",
    "**Hier ist noch eine frage offen:**  \n",
    "UEFA_1:~# ping -b 6.200.20.255  \n",
    "WARNING: pinging broadcast address  \n",
    "PING 6.200.20.255 (6.200.20.255) 56(84) bytes of data.  \n",
    "64 bytes from 6.200.20.3: icmp_seq=1 ttl=64 time=0.075 ms  \n",
    "64 bytes from 6.200.20.1: icmp_seq=1 ttl=64 time=4.16 ms (DUP!)  \n",
    "64 bytes from 6.200.20.2: icmp_seq=1 ttl=64 time=7.39 ms (DUP!)  \n",
    "64 bytes from 6.200.20.4: icmp_seq=1 ttl=64 time=9.97 ms (DUP!)  \n",
    "64 bytes from 6.200.20.3: icmp_seq=2 ttl=64 time=0.090 ms  \n",
    "\n",
    "UEFA_1:~# ping -b 6.200.10.255  \n",
    "PING 6.200.10.255 (6.200.10.255) 56(84) bytes of data.  \n",
    "64 bytes from 6.200.20.1: icmp_seq=1 ttl=64 time=3.35 ms  \n",
    "64 bytes from 6.200.20.1: icmp_seq=2 ttl=64 time=2.37 ms  \n",
    "\n",
    "\n",
    "Vermutund STP ist nicht ordentlich konfiguriert da eventuell Network Loop"
   ]
  },
  {
   "attachments": {},
   "cell_type": "markdown",
   "metadata": {},
   "source": [
    "<img src=\"l3-network.png\" width=\"600\">"
   ]
  },
  {
   "cell_type": "markdown",
   "metadata": {},
   "source": []
  }
 ],
 "metadata": {
  "kernelspec": {
   "display_name": "Python 3 (ipykernel)",
   "language": "python",
   "name": "python3"
  },
  "language_info": {
   "codemirror_mode": {
    "name": "ipython",
    "version": 3
   },
   "file_extension": ".py",
   "mimetype": "text/x-python",
   "name": "python",
   "nbconvert_exporter": "python",
   "pygments_lexer": "ipython3",
   "version": "3.9.12"
  }
 },
 "nbformat": 4,
 "nbformat_minor": 2
}
